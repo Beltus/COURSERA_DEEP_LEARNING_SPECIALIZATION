{
 "cells": [
  {
   "cell_type": "markdown",
   "metadata": {},
   "source": [
    "# Practice Notebook For Functions"
   ]
  },
  {
   "cell_type": "code",
   "execution_count": 3,
   "metadata": {},
   "outputs": [
    {
     "name": "stdout",
     "output_type": "stream",
     "text": [
      "[4 5 8 9]\n"
     ]
    }
   ],
   "source": [
    "import numpy as np\n",
    "\n",
    "a = np.array([4,5,8,9])\n",
    "print(a)"
   ]
  },
  {
   "cell_type": "code",
   "execution_count": 4,
   "metadata": {},
   "outputs": [],
   "source": [
    "import time # measures how time operations take"
   ]
  },
  {
   "cell_type": "code",
   "execution_count": 10,
   "metadata": {},
   "outputs": [
    {
     "name": "stdout",
     "output_type": "stream",
     "text": [
      "Vectorized version:1.5492439270019531ms\n",
      "Non_Vectorized version:592.3941135406494ms\n"
     ]
    }
   ],
   "source": [
    "a = np.random.rand(1000000)\n",
    "b = np.random.rand(1000000)\n",
    "\n",
    "tic = time.time() #start time\n",
    "c = np.dot(a , b) # perform vectorized multiplication of arrays\n",
    "toc = time.time()#end time\n",
    "\n",
    "print('Vectorized version:' + str(1000*(toc-tic)) + \"ms\" )# print time in miliseconds\n",
    "\n",
    "\n",
    "\n",
    "c = 0 \n",
    "\n",
    "tic = time.time()\n",
    "\n",
    "for i in range(1000000):\n",
    "    \n",
    "    c += a[i] * b[i]\n",
    "    \n",
    "toc = time.time()\n",
    "\n",
    "print('Non_Vectorized version :' + str(1000*(toc-tic)) + \"ms\" )# print time in miliseconds\n"
   ]
  },
  {
   "cell_type": "code",
   "execution_count": 18,
   "metadata": {},
   "outputs": [
    {
     "name": "stdout",
     "output_type": "stream",
     "text": [
      "[[1.95098603]\n",
      " [1.72806338]\n",
      " [3.17057759]\n",
      " [4.06676341]\n",
      " [1.12280166]]\n"
     ]
    }
   ],
   "source": [
    "## Basic operations in Numpy\n",
    "\n",
    "v = 2 * np.random.rand(5,3)\n",
    "\n",
    "e = np.exp(v)\n",
    "\n",
    "m = np.max\n",
    "print('V :' + str(v))\n",
    "print('maximum:' + str(m));"
   ]
  },
  {
   "cell_type": "code",
   "execution_count": null,
   "metadata": {},
   "outputs": [],
   "source": []
  }
 ],
 "metadata": {
  "kernelspec": {
   "display_name": "Python 3",
   "language": "python",
   "name": "python3"
  },
  "language_info": {
   "codemirror_mode": {
    "name": "ipython",
    "version": 3
   },
   "file_extension": ".py",
   "mimetype": "text/x-python",
   "name": "python",
   "nbconvert_exporter": "python",
   "pygments_lexer": "ipython3",
   "version": "3.6.8"
  }
 },
 "nbformat": 4,
 "nbformat_minor": 2
}
